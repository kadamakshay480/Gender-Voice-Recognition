{
 "cells": [
  {
   "cell_type": "code",
   "execution_count": 46,
   "metadata": {},
   "outputs": [
    {
     "name": "stdout",
     "output_type": "stream",
     "text": [
      "Requirement already satisfied: pipwin in c:\\users\\user\\appdata\\local\\programs\\python\\python37\\lib\\site-packages (0.5.2)Note: you may need to restart the kernel to use updated packages.\n"
     ]
    },
    {
     "name": "stderr",
     "output_type": "stream",
     "text": [
      "WARNING: You are using pip version 20.1.1; however, version 24.0 is available.\n",
      "You should consider upgrading via the 'c:\\Users\\user\\AppData\\Local\\Programs\\Python\\Python37\\python.exe -m pip install --upgrade pip' command.\n"
     ]
    },
    {
     "name": "stdout",
     "output_type": "stream",
     "text": [
      "\n",
      "Requirement already satisfied: pySmartDL>=1.3.1; python_version >= \"3.4\" in c:\\users\\user\\appdata\\local\\programs\\python\\python37\\lib\\site-packages (from pipwin) (1.3.4)\n",
      "Requirement already satisfied: packaging in c:\\users\\user\\appdata\\roaming\\python\\python37\\site-packages (from pipwin) (23.2)\n",
      "Requirement already satisfied: requests in c:\\users\\user\\appdata\\local\\programs\\python\\python37\\lib\\site-packages (from pipwin) (2.31.0)\n",
      "Requirement already satisfied: docopt in c:\\users\\user\\appdata\\local\\programs\\python\\python37\\lib\\site-packages (from pipwin) (0.6.2)\n",
      "Requirement already satisfied: pyprind in c:\\users\\user\\appdata\\local\\programs\\python\\python37\\lib\\site-packages (from pipwin) (2.11.3)\n",
      "Requirement already satisfied: beautifulsoup4>=4.9.0 in c:\\users\\user\\appdata\\local\\programs\\python\\python37\\lib\\site-packages (from pipwin) (4.12.3)\n",
      "Requirement already satisfied: six in c:\\users\\user\\appdata\\roaming\\python\\python37\\site-packages (from pipwin) (1.16.0)\n",
      "Requirement already satisfied: js2py in c:\\users\\user\\appdata\\local\\programs\\python\\python37\\lib\\site-packages (from pipwin) (0.74)\n",
      "Requirement already satisfied: idna<4,>=2.5 in c:\\users\\user\\appdata\\local\\programs\\python\\python37\\lib\\site-packages (from requests->pipwin) (3.6)\n",
      "Requirement already satisfied: certifi>=2017.4.17 in c:\\users\\user\\appdata\\local\\programs\\python\\python37\\lib\\site-packages (from requests->pipwin) (2023.11.17)\n",
      "Requirement already satisfied: urllib3<3,>=1.21.1 in c:\\users\\user\\appdata\\local\\programs\\python\\python37\\lib\\site-packages (from requests->pipwin) (2.0.7)\n",
      "Requirement already satisfied: charset-normalizer<4,>=2 in c:\\users\\user\\appdata\\local\\programs\\python\\python37\\lib\\site-packages (from requests->pipwin) (3.3.2)\n",
      "Requirement already satisfied: soupsieve>1.2 in c:\\users\\user\\appdata\\local\\programs\\python\\python37\\lib\\site-packages (from beautifulsoup4>=4.9.0->pipwin) (2.4.1)\n",
      "Requirement already satisfied: tzlocal>=1.2 in c:\\users\\user\\appdata\\local\\programs\\python\\python37\\lib\\site-packages (from js2py->pipwin) (5.1)\n",
      "Requirement already satisfied: pyjsparser>=2.5.1 in c:\\users\\user\\appdata\\local\\programs\\python\\python37\\lib\\site-packages (from js2py->pipwin) (2.7.1)\n",
      "Requirement already satisfied: backports.zoneinfo; python_version < \"3.9\" in c:\\users\\user\\appdata\\local\\programs\\python\\python37\\lib\\site-packages (from tzlocal>=1.2->js2py->pipwin) (0.2.1)\n",
      "Requirement already satisfied: tzdata; platform_system == \"Windows\" in c:\\users\\user\\appdata\\local\\programs\\python\\python37\\lib\\site-packages (from tzlocal>=1.2->js2py->pipwin) (2024.1)\n"
     ]
    }
   ],
   "source": [
    "pip install pipwin"
   ]
  },
  {
   "cell_type": "code",
   "execution_count": 47,
   "metadata": {},
   "outputs": [
    {
     "name": "stdout",
     "output_type": "stream",
     "text": [
      "Note: you may need to restart the kernel to use updated packages.\n"
     ]
    },
    {
     "name": "stderr",
     "output_type": "stream",
     "text": [
      "WARNING: Requirement 'PyAudio-0.2.11-cp310-cp310-win_amd64.whl' looks like a filename, but the file does not exist\n",
      "ERROR: PyAudio-0.2.11-cp310-cp310-win_amd64.whl is not a supported wheel on this platform.\n",
      "WARNING: You are using pip version 20.1.1; however, version 24.0 is available.\n",
      "You should consider upgrading via the 'c:\\Users\\user\\AppData\\Local\\Programs\\Python\\Python37\\python.exe -m pip install --upgrade pip' command.\n"
     ]
    }
   ],
   "source": [
    "pip install PyAudio-0.2.11-cp310-cp310-win_amd64.whl"
   ]
  },
  {
   "cell_type": "code",
   "execution_count": 48,
   "metadata": {},
   "outputs": [
    {
     "name": "stdout",
     "output_type": "stream",
     "text": [
      "Requirement already satisfied: tensorflow in c:\\users\\user\\appdata\\local\\programs\\python\\python37\\lib\\site-packages (2.11.0)\n",
      "Requirement already satisfied: tensorflow-intel==2.11.0; platform_system == \"Windows\" in c:\\users\\user\\appdata\\local\\programs\\python\\python37\\lib\\site-packages (from tensorflow) (2.11.0)\n",
      "Requirement already satisfied: grpcio<2.0,>=1.24.3 in c:\\users\\user\\appdata\\local\\programs\\python\\python37\\lib\\site-packages (from tensorflow-intel==2.11.0; platform_system == \"Windows\"->tensorflow) (1.60.0)\n",
      "Requirement already satisfied: google-pasta>=0.1.1 in c:\\users\\user\\appdata\\local\\programs\\python\\python37\\lib\\site-packages (from tensorflow-intel==2.11.0; platform_system == \"Windows\"->tensorflow) (0.2.0)\n",
      "Requirement already satisfied: astunparse>=1.6.0 in c:\\users\\user\\appdata\\local\\programs\\python\\python37\\lib\\site-packages (from tensorflow-intel==2.11.0; platform_system == \"Windows\"->tensorflow) (1.6.3)\n",
      "Requirement already satisfied: gast<=0.4.0,>=0.2.1 in c:\\users\\user\\appdata\\local\\programs\\python\\python37\\lib\\site-packages (from tensorflow-intel==2.11.0; platform_system == \"Windows\"->tensorflow) (0.4.0)\n",
      "Requirement already satisfied: six>=1.12.0 in c:\\users\\user\\appdata\\roaming\\python\\python37\\site-packages (from tensorflow-intel==2.11.0; platform_system == \"Windows\"->tensorflow) (1.16.0)\n",
      "Requirement already satisfied: tensorflow-io-gcs-filesystem>=0.23.1; platform_machine != \"arm64\" or platform_system != \"Darwin\" in c:\\users\\user\\appdata\\local\\programs\\python\\python37\\lib\\site-packages (from tensorflow-intel==2.11.0; platform_system == \"Windows\"->tensorflow) (0.31.0)\n",
      "Requirement already satisfied: termcolor>=1.1.0 in c:\\users\\user\\appdata\\local\\programs\\python\\python37\\lib\\site-packages (from tensorflow-intel==2.11.0; platform_system == \"Windows\"->tensorflow) (2.3.0)\n",
      "Requirement already satisfied: tensorboard<2.12,>=2.11 in c:\\users\\user\\appdata\\local\\programs\\python\\python37\\lib\\site-packages (from tensorflow-intel==2.11.0; platform_system == \"Windows\"->tensorflow) (2.11.2)\n",
      "Requirement already satisfied: setuptools in c:\\users\\user\\appdata\\local\\programs\\python\\python37\\lib\\site-packages (from tensorflow-intel==2.11.0; platform_system == \"Windows\"->tensorflow) (47.1.0)\n",
      "Requirement already satisfied: packaging in c:\\users\\user\\appdata\\roaming\\python\\python37\\site-packages (from tensorflow-intel==2.11.0; platform_system == \"Windows\"->tensorflow) (23.2)\n",
      "Requirement already satisfied: h5py>=2.9.0 in c:\\users\\user\\appdata\\local\\programs\\python\\python37\\lib\\site-packages (from tensorflow-intel==2.11.0; platform_system == \"Windows\"->tensorflow) (3.8.0)\n",
      "Requirement already satisfied: protobuf<3.20,>=3.9.2 in c:\\users\\user\\appdata\\local\\programs\\python\\python37\\lib\\site-packages (from tensorflow-intel==2.11.0; platform_system == \"Windows\"->tensorflow) (3.19.6)\n",
      "Requirement already satisfied: absl-py>=1.0.0 in c:\\users\\user\\appdata\\local\\programs\\python\\python37\\lib\\site-packages (from tensorflow-intel==2.11.0; platform_system == \"Windows\"->tensorflow) (2.1.0)\n",
      "Requirement already satisfied: tensorflow-estimator<2.12,>=2.11.0 in c:\\users\\user\\appdata\\local\\programs\\python\\python37\\lib\\site-packages (from tensorflow-intel==2.11.0; platform_system == \"Windows\"->tensorflow) (2.11.0)\n",
      "Requirement already satisfied: flatbuffers>=2.0 in c:\\users\\user\\appdata\\local\\programs\\python\\python37\\lib\\site-packages (from tensorflow-intel==2.11.0; platform_system == \"Windows\"->tensorflow) (23.5.26)\n",
      "Requirement already satisfied: numpy>=1.20 in c:\\users\\user\\appdata\\local\\programs\\python\\python37\\lib\\site-packages (from tensorflow-intel==2.11.0; platform_system == \"Windows\"->tensorflow) (1.21.6)\n",
      "Requirement already satisfied: wrapt>=1.11.0 in c:\\users\\user\\appdata\\local\\programs\\python\\python37\\lib\\site-packages (from tensorflow-intel==2.11.0; platform_system == \"Windows\"->tensorflow) (1.16.0)\n",
      "Requirement already satisfied: libclang>=13.0.0 in c:\\users\\user\\appdata\\local\\programs\\python\\python37\\lib\\site-packages (from tensorflow-intel==2.11.0; platform_system == \"Windows\"->tensorflow) (16.0.6)\n",
      "Requirement already satisfied: keras<2.12,>=2.11.0 in c:\\users\\user\\appdata\\local\\programs\\python\\python37\\lib\\site-packages (from tensorflow-intel==2.11.0; platform_system == \"Windows\"->tensorflow) (2.11.0)\n",
      "Requirement already satisfied: typing-extensions>=3.6.6 in c:\\users\\user\\appdata\\local\\programs\\python\\python37\\lib\\site-packages (from tensorflow-intel==2.11.0; platform_system == \"Windows\"->tensorflow) (4.7.1)\n",
      "Requirement already satisfied: opt-einsum>=2.3.2 in c:\\users\\user\\appdata\\local\\programs\\python\\python37\\lib\\site-packages (from tensorflow-intel==2.11.0; platform_system == \"Windows\"->tensorflow) (3.3.0)\n",
      "Requirement already satisfied: wheel<1.0,>=0.23.0 in c:\\users\\user\\appdata\\local\\programs\\python\\python37\\lib\\site-packages (from astunparse>=1.6.0->tensorflow-intel==2.11.0; platform_system == \"Windows\"->tensorflow) (0.42.0)\n",
      "Requirement already satisfied: tensorboard-plugin-wit>=1.6.0 in c:\\users\\user\\appdata\\local\\programs\\python\\python37\\lib\\site-packages (from tensorboard<2.12,>=2.11->tensorflow-intel==2.11.0; platform_system == \"Windows\"->tensorflow) (1.8.1)\n",
      "Requirement already satisfied: markdown>=2.6.8 in c:\\users\\user\\appdata\\local\\programs\\python\\python37\\lib\\site-packages (from tensorboard<2.12,>=2.11->tensorflow-intel==2.11.0; platform_system == \"Windows\"->tensorflow) (3.4.4)\n",
      "Requirement already satisfied: requests<3,>=2.21.0 in c:\\users\\user\\appdata\\local\\programs\\python\\python37\\lib\\site-packages (from tensorboard<2.12,>=2.11->tensorflow-intel==2.11.0; platform_system == \"Windows\"->tensorflow) (2.31.0)\n",
      "Requirement already satisfied: tensorboard-data-server<0.7.0,>=0.6.0 in c:\\users\\user\\appdata\\local\\programs\\python\\python37\\lib\\site-packages (from tensorboard<2.12,>=2.11->tensorflow-intel==2.11.0; platform_system == \"Windows\"->tensorflow) (0.6.1)\n",
      "Requirement already satisfied: google-auth-oauthlib<0.5,>=0.4.1 in c:\\users\\user\\appdata\\local\\programs\\python\\python37\\lib\\site-packages (from tensorboard<2.12,>=2.11->tensorflow-intel==2.11.0; platform_system == \"Windows\"->tensorflow) (0.4.6)\n",
      "Requirement already satisfied: google-auth<3,>=1.6.3 in c:\\users\\user\\appdata\\local\\programs\\python\\python37\\lib\\site-packages (from tensorboard<2.12,>=2.11->tensorflow-intel==2.11.0; platform_system == \"Windows\"->tensorflow) (2.26.2)\n",
      "Requirement already satisfied: werkzeug>=1.0.1 in c:\\users\\user\\appdata\\local\\programs\\python\\python37\\lib\\site-packages (from tensorboard<2.12,>=2.11->tensorflow-intel==2.11.0; platform_system == \"Windows\"->tensorflow) (2.2.3)\n",
      "Requirement already satisfied: importlib-metadata>=4.4; python_version < \"3.10\" in c:\\users\\user\\appdata\\local\\programs\\python\\python37\\lib\\site-packages (from markdown>=2.6.8->tensorboard<2.12,>=2.11->tensorflow-intel==2.11.0; platform_system == \"Windows\"->tensorflow) (6.7.0)\n",
      "Requirement already satisfied: urllib3<3,>=1.21.1 in c:\\users\\user\\appdata\\local\\programs\\python\\python37\\lib\\site-packages (from requests<3,>=2.21.0->tensorboard<2.12,>=2.11->tensorflow-intel==2.11.0; platform_system == \"Windows\"->tensorflow) (2.0.7)\n",
      "Requirement already satisfied: certifi>=2017.4.17 in c:\\users\\user\\appdata\\local\\programs\\python\\python37\\lib\\site-packages (from requests<3,>=2.21.0->tensorboard<2.12,>=2.11->tensorflow-intel==2.11.0; platform_system == \"Windows\"->tensorflow) (2023.11.17)\n",
      "Requirement already satisfied: idna<4,>=2.5 in c:\\users\\user\\appdata\\local\\programs\\python\\python37\\lib\\site-packages (from requests<3,>=2.21.0->tensorboard<2.12,>=2.11->tensorflow-intel==2.11.0; platform_system == \"Windows\"->tensorflow) (3.6)\n",
      "Requirement already satisfied: charset-normalizer<4,>=2 in c:\\users\\user\\appdata\\local\\programs\\python\\python37\\lib\\site-packages (from requests<3,>=2.21.0->tensorboard<2.12,>=2.11->tensorflow-intel==2.11.0; platform_system == \"Windows\"->tensorflow) (3.3.2)\n",
      "Requirement already satisfied: requests-oauthlib>=0.7.0 in c:\\users\\user\\appdata\\local\\programs\\python\\python37\\lib\\site-packages (from google-auth-oauthlib<0.5,>=0.4.1->tensorboard<2.12,>=2.11->tensorflow-intel==2.11.0; platform_system == \"Windows\"->tensorflow) (1.3.1)\n",
      "Requirement already satisfied: rsa<5,>=3.1.4 in c:\\users\\user\\appdata\\local\\programs\\python\\python37\\lib\\site-packages (from google-auth<3,>=1.6.3->tensorboard<2.12,>=2.11->tensorflow-intel==2.11.0; platform_system == \"Windows\"->tensorflow) (4.9)\n",
      "Requirement already satisfied: pyasn1-modules>=0.2.1 in c:\\users\\user\\appdata\\local\\programs\\python\\python37\\lib\\site-packages (from google-auth<3,>=1.6.3->tensorboard<2.12,>=2.11->tensorflow-intel==2.11.0; platform_system == \"Windows\"->tensorflow) (0.3.0)\n",
      "Requirement already satisfied: cachetools<6.0,>=2.0.0 in c:\\users\\user\\appdata\\local\\programs\\python\\python37\\lib\\site-packages (from google-auth<3,>=1.6.3->tensorboard<2.12,>=2.11->tensorflow-intel==2.11.0; platform_system == \"Windows\"->tensorflow) (5.3.2)\n",
      "Requirement already satisfied: MarkupSafe>=2.1.1 in c:\\users\\user\\appdata\\local\\programs\\python\\python37\\lib\\site-packages (from werkzeug>=1.0.1->tensorboard<2.12,>=2.11->tensorflow-intel==2.11.0; platform_system == \"Windows\"->tensorflow) (2.1.4)\n",
      "Requirement already satisfied: zipp>=0.5 in c:\\users\\user\\appdata\\local\\programs\\python\\python37\\lib\\site-packages (from importlib-metadata>=4.4; python_version < \"3.10\"->markdown>=2.6.8->tensorboard<2.12,>=2.11->tensorflow-intel==2.11.0; platform_system == \"Windows\"->tensorflow) (3.15.0)\n",
      "Requirement already satisfied: oauthlib>=3.0.0 in c:\\users\\user\\appdata\\local\\programs\\python\\python37\\lib\\site-packages (from requests-oauthlib>=0.7.0->google-auth-oauthlib<0.5,>=0.4.1->tensorboard<2.12,>=2.11->tensorflow-intel==2.11.0; platform_system == \"Windows\"->tensorflow) (3.2.2)\n",
      "Requirement already satisfied: pyasn1>=0.1.3 in c:\\users\\user\\appdata\\local\\programs\\python\\python37\\lib\\site-packages (from rsa<5,>=3.1.4->google-auth<3,>=1.6.3->tensorboard<2.12,>=2.11->tensorflow-intel==2.11.0; platform_system == \"Windows\"->tensorflow) (0.5.1)\n",
      "Note: you may need to restart the kernel to use updated packages.\n"
     ]
    },
    {
     "name": "stderr",
     "output_type": "stream",
     "text": [
      "WARNING: You are using pip version 20.1.1; however, version 24.0 is available.\n",
      "You should consider upgrading via the 'c:\\Users\\user\\AppData\\Local\\Programs\\Python\\Python37\\python.exe -m pip install --upgrade pip' command.\n"
     ]
    }
   ],
   "source": [
    "pip install tensorflow"
   ]
  },
  {
   "cell_type": "code",
   "execution_count": 49,
   "metadata": {},
   "outputs": [
    {
     "name": "stdout",
     "output_type": "stream",
     "text": [
      "Requirement already satisfied: tqdm in c:\\users\\user\\appdata\\local\\programs\\python\\python37\\lib\\site-packages (4.66.2)Note: you may need to restart the kernel to use updated packages.\n"
     ]
    },
    {
     "name": "stderr",
     "output_type": "stream",
     "text": [
      "WARNING: You are using pip version 20.1.1; however, version 24.0 is available.\n",
      "You should consider upgrading via the 'c:\\Users\\user\\AppData\\Local\\Programs\\Python\\Python37\\python.exe -m pip install --upgrade pip' command.\n"
     ]
    },
    {
     "name": "stdout",
     "output_type": "stream",
     "text": [
      "\n",
      "Requirement already satisfied: colorama; platform_system == \"Windows\" in c:\\users\\user\\appdata\\roaming\\python\\python37\\site-packages (from tqdm) (0.4.6)\n"
     ]
    }
   ],
   "source": [
    "pip install tqdm"
   ]
  },
  {
   "cell_type": "code",
   "execution_count": null,
   "metadata": {},
   "outputs": [],
   "source": []
  },
  {
   "cell_type": "code",
   "execution_count": 2,
   "metadata": {},
   "outputs": [],
   "source": [
    "import pandas as pd\n",
    "import numpy as np\n",
    "import os\n",
    "import tqdm\n",
    "from tensorflow.keras.models import Sequential\n",
    "from tensorflow.keras.layers import Dense, LSTM, Dropout\n",
    "from tensorflow.keras.callbacks import ModelCheckpoint, TensorBoard, EarlyStopping\n",
    "from sklearn.model_selection import train_test_split"
   ]
  },
  {
   "cell_type": "code",
   "execution_count": 3,
   "metadata": {},
   "outputs": [
    {
     "data": {
      "text/html": [
       "<div>\n",
       "<style scoped>\n",
       "    .dataframe tbody tr th:only-of-type {\n",
       "        vertical-align: middle;\n",
       "    }\n",
       "\n",
       "    .dataframe tbody tr th {\n",
       "        vertical-align: top;\n",
       "    }\n",
       "\n",
       "    .dataframe thead th {\n",
       "        text-align: right;\n",
       "    }\n",
       "</style>\n",
       "<table border=\"1\" class=\"dataframe\">\n",
       "  <thead>\n",
       "    <tr style=\"text-align: right;\">\n",
       "      <th></th>\n",
       "      <th>filename</th>\n",
       "      <th>gender</th>\n",
       "    </tr>\n",
       "  </thead>\n",
       "  <tbody>\n",
       "    <tr>\n",
       "      <th>0</th>\n",
       "      <td>data/cv-other-train/sample-069205.npy</td>\n",
       "      <td>female</td>\n",
       "    </tr>\n",
       "    <tr>\n",
       "      <th>1</th>\n",
       "      <td>data/cv-valid-train/sample-063134.npy</td>\n",
       "      <td>female</td>\n",
       "    </tr>\n",
       "    <tr>\n",
       "      <th>2</th>\n",
       "      <td>data/cv-other-train/sample-080873.npy</td>\n",
       "      <td>female</td>\n",
       "    </tr>\n",
       "    <tr>\n",
       "      <th>3</th>\n",
       "      <td>data/cv-other-train/sample-105595.npy</td>\n",
       "      <td>female</td>\n",
       "    </tr>\n",
       "    <tr>\n",
       "      <th>4</th>\n",
       "      <td>data/cv-valid-train/sample-144613.npy</td>\n",
       "      <td>female</td>\n",
       "    </tr>\n",
       "  </tbody>\n",
       "</table>\n",
       "</div>"
      ],
      "text/plain": [
       "                                filename  gender\n",
       "0  data/cv-other-train/sample-069205.npy  female\n",
       "1  data/cv-valid-train/sample-063134.npy  female\n",
       "2  data/cv-other-train/sample-080873.npy  female\n",
       "3  data/cv-other-train/sample-105595.npy  female\n",
       "4  data/cv-valid-train/sample-144613.npy  female"
      ]
     },
     "execution_count": 3,
     "metadata": {},
     "output_type": "execute_result"
    }
   ],
   "source": [
    "df = pd.read_csv(\"C:/Age Gender Detection/Voice Recognition/balanced-all.csv\")\n",
    "df.head()"
   ]
  },
  {
   "cell_type": "code",
   "execution_count": 4,
   "metadata": {},
   "outputs": [
    {
     "data": {
      "text/html": [
       "<div>\n",
       "<style scoped>\n",
       "    .dataframe tbody tr th:only-of-type {\n",
       "        vertical-align: middle;\n",
       "    }\n",
       "\n",
       "    .dataframe tbody tr th {\n",
       "        vertical-align: top;\n",
       "    }\n",
       "\n",
       "    .dataframe thead th {\n",
       "        text-align: right;\n",
       "    }\n",
       "</style>\n",
       "<table border=\"1\" class=\"dataframe\">\n",
       "  <thead>\n",
       "    <tr style=\"text-align: right;\">\n",
       "      <th></th>\n",
       "      <th>filename</th>\n",
       "      <th>gender</th>\n",
       "    </tr>\n",
       "  </thead>\n",
       "  <tbody>\n",
       "    <tr>\n",
       "      <th>66933</th>\n",
       "      <td>data/cv-valid-train/sample-171098.npy</td>\n",
       "      <td>male</td>\n",
       "    </tr>\n",
       "    <tr>\n",
       "      <th>66934</th>\n",
       "      <td>data/cv-other-train/sample-022864.npy</td>\n",
       "      <td>male</td>\n",
       "    </tr>\n",
       "    <tr>\n",
       "      <th>66935</th>\n",
       "      <td>data/cv-valid-train/sample-080933.npy</td>\n",
       "      <td>male</td>\n",
       "    </tr>\n",
       "    <tr>\n",
       "      <th>66936</th>\n",
       "      <td>data/cv-other-train/sample-012026.npy</td>\n",
       "      <td>male</td>\n",
       "    </tr>\n",
       "    <tr>\n",
       "      <th>66937</th>\n",
       "      <td>data/cv-other-train/sample-013841.npy</td>\n",
       "      <td>male</td>\n",
       "    </tr>\n",
       "  </tbody>\n",
       "</table>\n",
       "</div>"
      ],
      "text/plain": [
       "                                    filename gender\n",
       "66933  data/cv-valid-train/sample-171098.npy   male\n",
       "66934  data/cv-other-train/sample-022864.npy   male\n",
       "66935  data/cv-valid-train/sample-080933.npy   male\n",
       "66936  data/cv-other-train/sample-012026.npy   male\n",
       "66937  data/cv-other-train/sample-013841.npy   male"
      ]
     },
     "execution_count": 4,
     "metadata": {},
     "output_type": "execute_result"
    }
   ],
   "source": [
    "df.tail()"
   ]
  },
  {
   "cell_type": "code",
   "execution_count": 5,
   "metadata": {},
   "outputs": [
    {
     "name": "stdout",
     "output_type": "stream",
     "text": [
      "Total samples: 66938\n",
      "Total male samples: 33469\n",
      "Total female samples: 33469\n"
     ]
    }
   ],
   "source": [
    "# get total samples\n",
    "n_samples = len(df)\n",
    "# get total male samples\n",
    "n_male_samples = len(df[df['gender'] == 'male'])\n",
    "# get total female samples\n",
    "n_female_samples = len(df[df['gender'] == 'female'])\n",
    "print(\"Total samples:\", n_samples)\n",
    "print(\"Total male samples:\", n_male_samples)\n",
    "print(\"Total female samples:\", n_female_samples)"
   ]
  },
  {
   "cell_type": "code",
   "execution_count": 6,
   "metadata": {},
   "outputs": [],
   "source": [
    "label2int = {\n",
    "    \"male\": 1,\n",
    "    \"female\": 0\n",
    "}\n",
    "\n",
    "def load_data(vector_length=128):\n",
    "    \"\"\"A function to load gender recognition dataset from `data` folder\n",
    "    After the second run, this will load from results/features.npy and results/labels.npy files\n",
    "    as it is much faster!\"\"\"\n",
    "    # make sure results folder exists\n",
    "    if not os.path.isdir(\"C:/Age Gender Detection/Voice Recognition/results\"):\n",
    "        os.mkdir(\"C:/Age Gender Detection/Voice Recognition/results\")\n",
    "    # if features & labels already loaded individually and bundled, load them from there instead\n",
    "    if os.path.isfile(\"C:/Age Gender Detection/Voice Recognition/results/features.npy\") and os.path.isfile(\"C:/Age Gender Detection/Voice Recognition/results/labels.npy\"):\n",
    "        X = np.load(\"C:/Age Gender Detection/Voice Recognition/results/features.npy\")\n",
    "        y = np.load(\"C:/Age Gender Detection/Voice Recognition/results/labels.npy\")\n",
    "        return X, y\n",
    "    # read dataframe\n",
    "    df = pd.read_csv(\"C:/Age Gender Detection/Voice Recognition/balanced-all.csv\")\n",
    "    # get total samples\n",
    "    n_samples = len(df)\n",
    "    # get total male samples\n",
    "    n_male_samples = len(df[df['gender'] == 'male'])\n",
    "    # get total female samples\n",
    "    n_female_samples = len(df[df['gender'] == 'female'])\n",
    "    print(\"Total samples:\", n_samples)\n",
    "    print(\"Total male samples:\", n_male_samples)\n",
    "    print(\"Total female samples:\", n_female_samples)\n",
    "    # initialize an empty array for all audio features\n",
    "    X = np.zeros((n_samples, vector_length))\n",
    "    # initialize an empty array for all audio labels (1 for male and 0 for female)\n",
    "    y = np.zeros((n_samples, 1))\n",
    "    for i, (filename, gender) in tqdm.tqdm(enumerate(zip(df['filename'], df['gender'])), \"Loading data\", total=n_samples):\n",
    "        features = np.load(filename)\n",
    "        X[i] = features\n",
    "        y[i] = label2int[gender]\n",
    "    # save the audio features and labels into files\n",
    "    # so we won't load each one of them next run\n",
    "    np.save(\"C:/Age Gender Detection/Voice Recognition/results/features\", X)\n",
    "    np.save(\"C:/Age Gender Detection/Voice Recognition/results/labels\", y)\n",
    "    return X, y"
   ]
  },
  {
   "cell_type": "code",
   "execution_count": null,
   "metadata": {},
   "outputs": [],
   "source": []
  },
  {
   "cell_type": "code",
   "execution_count": 7,
   "metadata": {},
   "outputs": [],
   "source": [
    "def split_data(X, y, test_size=0.1, valid_size=0.1):\n",
    "    # split training set and testing set\n",
    "    X_train, X_test, y_train, y_test = train_test_split(X, y, test_size=test_size, random_state=7)\n",
    "    # split training set and validation set\n",
    "    X_train, X_valid, y_train, y_valid = train_test_split(X_train, y_train, test_size=valid_size, random_state=7)\n",
    "    # return a dictionary of values\n",
    "    return {\n",
    "        \"X_train\": X_train,\n",
    "        \"X_valid\": X_valid,\n",
    "        \"X_test\": X_test,\n",
    "        \"y_train\": y_train,\n",
    "        \"y_valid\": y_valid,\n",
    "        \"y_test\": y_test\n",
    "    }"
   ]
  },
  {
   "cell_type": "code",
   "execution_count": 8,
   "metadata": {},
   "outputs": [],
   "source": [
    "# load the dataset\n",
    "X, y = load_data()\n",
    "# split the data into training, validation and testing sets\n",
    "data = split_data(X, y, test_size=0.1, valid_size=0.1)"
   ]
  },
  {
   "cell_type": "code",
   "execution_count": 9,
   "metadata": {},
   "outputs": [],
   "source": [
    "def create_model(vector_length=128):\n",
    "    \"\"\"5 hidden dense layers from 256 units to 64, not the best model.\"\"\"\n",
    "    model = Sequential()\n",
    "    model.add(Dense(256, input_shape=(vector_length,)))\n",
    "    model.add(Dropout(0.3))\n",
    "    model.add(Dense(256, activation=\"relu\"))\n",
    "    model.add(Dropout(0.3))\n",
    "    model.add(Dense(128, activation=\"relu\"))\n",
    "    model.add(Dropout(0.3))\n",
    "    model.add(Dense(128, activation=\"relu\"))\n",
    "    model.add(Dropout(0.3))\n",
    "    model.add(Dense(64, activation=\"relu\"))\n",
    "    model.add(Dropout(0.3))\n",
    "    # one output neuron with sigmoid activation function, 0 means female, 1 means male\n",
    "    model.add(Dense(1, activation=\"sigmoid\"))\n",
    "    # using binary crossentropy as it's male/female classification (binary)\n",
    "    model.compile(loss=\"binary_crossentropy\", metrics=[\"accuracy\"], optimizer=\"adam\")\n",
    "    # print summary of the model\n",
    "    model.summary()\n",
    "    return model"
   ]
  },
  {
   "cell_type": "code",
   "execution_count": 10,
   "metadata": {},
   "outputs": [
    {
     "name": "stdout",
     "output_type": "stream",
     "text": [
      "Model: \"sequential\"\n",
      "_________________________________________________________________\n",
      " Layer (type)                Output Shape              Param #   \n",
      "=================================================================\n",
      " dense (Dense)               (None, 256)               33024     \n",
      "                                                                 \n",
      " dropout (Dropout)           (None, 256)               0         \n",
      "                                                                 \n",
      " dense_1 (Dense)             (None, 256)               65792     \n",
      "                                                                 \n",
      " dropout_1 (Dropout)         (None, 256)               0         \n",
      "                                                                 \n",
      " dense_2 (Dense)             (None, 128)               32896     \n",
      "                                                                 \n",
      " dropout_2 (Dropout)         (None, 128)               0         \n",
      "                                                                 \n",
      " dense_3 (Dense)             (None, 128)               16512     \n",
      "                                                                 \n",
      " dropout_3 (Dropout)         (None, 128)               0         \n",
      "                                                                 \n",
      " dense_4 (Dense)             (None, 64)                8256      \n",
      "                                                                 \n",
      " dropout_4 (Dropout)         (None, 64)                0         \n",
      "                                                                 \n",
      " dense_5 (Dense)             (None, 1)                 65        \n",
      "                                                                 \n",
      "=================================================================\n",
      "Total params: 156,545\n",
      "Trainable params: 156,545\n",
      "Non-trainable params: 0\n",
      "_________________________________________________________________\n"
     ]
    }
   ],
   "source": [
    "# construct the model\n",
    "model = create_model()"
   ]
  },
  {
   "cell_type": "code",
   "execution_count": 11,
   "metadata": {},
   "outputs": [
    {
     "name": "stdout",
     "output_type": "stream",
     "text": [
      "Epoch 1/100\n",
      "848/848 [==============================] - 17s 14ms/step - loss: 0.5576 - accuracy: 0.7701 - val_loss: 0.3959 - val_accuracy: 0.8528\n",
      "Epoch 2/100\n",
      "848/848 [==============================] - 14s 16ms/step - loss: 0.4164 - accuracy: 0.8343 - val_loss: 0.3245 - val_accuracy: 0.8729\n",
      "Epoch 3/100\n",
      "848/848 [==============================] - 11s 12ms/step - loss: 0.3786 - accuracy: 0.8525 - val_loss: 0.3077 - val_accuracy: 0.8798\n",
      "Epoch 4/100\n",
      "848/848 [==============================] - 10s 12ms/step - loss: 0.3607 - accuracy: 0.8610 - val_loss: 0.2988 - val_accuracy: 0.8817\n",
      "Epoch 5/100\n",
      "848/848 [==============================] - 13s 15ms/step - loss: 0.3434 - accuracy: 0.8677 - val_loss: 0.3830 - val_accuracy: 0.8410\n",
      "Epoch 6/100\n",
      "848/848 [==============================] - 11s 13ms/step - loss: 0.3397 - accuracy: 0.8724 - val_loss: 0.3225 - val_accuracy: 0.8825\n",
      "Epoch 7/100\n",
      "848/848 [==============================] - 11s 12ms/step - loss: 0.3241 - accuracy: 0.8765 - val_loss: 0.2960 - val_accuracy: 0.8926\n",
      "Epoch 8/100\n",
      "848/848 [==============================] - 11s 13ms/step - loss: 0.3174 - accuracy: 0.8791 - val_loss: 0.2705 - val_accuracy: 0.8964\n",
      "Epoch 9/100\n",
      "848/848 [==============================] - 11s 13ms/step - loss: 0.3158 - accuracy: 0.8793 - val_loss: 0.2658 - val_accuracy: 0.8968\n",
      "Epoch 10/100\n",
      "848/848 [==============================] - 11s 12ms/step - loss: 0.3088 - accuracy: 0.8819 - val_loss: 0.2548 - val_accuracy: 0.9024\n",
      "Epoch 11/100\n",
      "848/848 [==============================] - 11s 12ms/step - loss: 0.3069 - accuracy: 0.8837 - val_loss: 0.2732 - val_accuracy: 0.8928\n",
      "Epoch 12/100\n",
      "848/848 [==============================] - 12s 14ms/step - loss: 0.2992 - accuracy: 0.8866 - val_loss: 0.2665 - val_accuracy: 0.8959\n",
      "Epoch 13/100\n",
      "848/848 [==============================] - 13s 15ms/step - loss: 0.2890 - accuracy: 0.8901 - val_loss: 0.2511 - val_accuracy: 0.9014\n",
      "Epoch 14/100\n",
      "848/848 [==============================] - 13s 16ms/step - loss: 0.2906 - accuracy: 0.8913 - val_loss: 0.2553 - val_accuracy: 0.8991\n",
      "Epoch 15/100\n",
      "848/848 [==============================] - 12s 14ms/step - loss: 0.2888 - accuracy: 0.8903 - val_loss: 0.2634 - val_accuracy: 0.9032\n",
      "Epoch 16/100\n",
      "848/848 [==============================] - 13s 16ms/step - loss: 0.2879 - accuracy: 0.8953 - val_loss: 0.2561 - val_accuracy: 0.9052\n",
      "Epoch 17/100\n",
      "848/848 [==============================] - 12s 14ms/step - loss: 0.2866 - accuracy: 0.8905 - val_loss: 0.2541 - val_accuracy: 0.9079\n",
      "Epoch 18/100\n",
      "848/848 [==============================] - 12s 14ms/step - loss: 0.2825 - accuracy: 0.8958 - val_loss: 0.2458 - val_accuracy: 0.9061\n",
      "Epoch 19/100\n",
      "848/848 [==============================] - 12s 14ms/step - loss: 0.2813 - accuracy: 0.8942 - val_loss: 0.2553 - val_accuracy: 0.9036\n",
      "Epoch 20/100\n",
      "848/848 [==============================] - 12s 14ms/step - loss: 0.2768 - accuracy: 0.8958 - val_loss: 0.2465 - val_accuracy: 0.9082\n",
      "Epoch 21/100\n",
      "848/848 [==============================] - 13s 15ms/step - loss: 0.2768 - accuracy: 0.8969 - val_loss: 0.2405 - val_accuracy: 0.9124\n",
      "Epoch 22/100\n",
      "848/848 [==============================] - 12s 14ms/step - loss: 0.2712 - accuracy: 0.8981 - val_loss: 0.2382 - val_accuracy: 0.9062\n",
      "Epoch 23/100\n",
      "848/848 [==============================] - 12s 14ms/step - loss: 0.2696 - accuracy: 0.8986 - val_loss: 0.2353 - val_accuracy: 0.9099\n",
      "Epoch 24/100\n",
      "848/848 [==============================] - 11s 13ms/step - loss: 0.2695 - accuracy: 0.8996 - val_loss: 0.2488 - val_accuracy: 0.9105\n",
      "Epoch 25/100\n",
      "848/848 [==============================] - 11s 13ms/step - loss: 0.2755 - accuracy: 0.8980 - val_loss: 0.2416 - val_accuracy: 0.9129\n",
      "Epoch 26/100\n",
      "848/848 [==============================] - 11s 13ms/step - loss: 0.2668 - accuracy: 0.9006 - val_loss: 0.2315 - val_accuracy: 0.9095\n",
      "Epoch 27/100\n",
      "848/848 [==============================] - 10s 12ms/step - loss: 0.2705 - accuracy: 0.9004 - val_loss: 0.2306 - val_accuracy: 0.9139\n",
      "Epoch 28/100\n",
      "848/848 [==============================] - 11s 13ms/step - loss: 0.2688 - accuracy: 0.9000 - val_loss: 0.2477 - val_accuracy: 0.9087\n",
      "Epoch 29/100\n",
      "848/848 [==============================] - 11s 12ms/step - loss: 0.2641 - accuracy: 0.9019 - val_loss: 0.2319 - val_accuracy: 0.9137\n",
      "Epoch 30/100\n",
      "848/848 [==============================] - 10s 12ms/step - loss: 0.2643 - accuracy: 0.9012 - val_loss: 0.2329 - val_accuracy: 0.9087\n",
      "Epoch 31/100\n",
      "848/848 [==============================] - 11s 12ms/step - loss: 0.2619 - accuracy: 0.9019 - val_loss: 0.2319 - val_accuracy: 0.9104\n",
      "Epoch 32/100\n",
      "848/848 [==============================] - 11s 13ms/step - loss: 0.2663 - accuracy: 0.9003 - val_loss: 0.2350 - val_accuracy: 0.9163\n"
     ]
    },
    {
     "data": {
      "text/plain": [
       "<keras.callbacks.History at 0x16161671848>"
      ]
     },
     "execution_count": 11,
     "metadata": {},
     "output_type": "execute_result"
    }
   ],
   "source": [
    "# use tensorboard to view metrics\n",
    "tensorboard = TensorBoard(log_dir=\"logs\")\n",
    "# define early stopping to stop training after 5 epochs of not improving\n",
    "early_stopping = EarlyStopping(mode=\"min\", patience=5, restore_best_weights=True)\n",
    "\n",
    "batch_size = 64\n",
    "epochs = 100\n",
    "# train the model using the training set and validating using validation set\n",
    "model.fit(data[\"X_train\"], data[\"y_train\"], epochs=epochs, batch_size=batch_size, validation_data=(data[\"X_valid\"], data[\"y_valid\"]),\n",
    "          callbacks=[tensorboard, early_stopping])"
   ]
  },
  {
   "cell_type": "code",
   "execution_count": 12,
   "metadata": {},
   "outputs": [],
   "source": [
    "# save the model to a file\n",
    "model.save(\"C:/Age Gender Detection/Voice Recognition/voice_recognition_model.h5\")"
   ]
  },
  {
   "cell_type": "code",
   "execution_count": 13,
   "metadata": {},
   "outputs": [
    {
     "name": "stdout",
     "output_type": "stream",
     "text": [
      "Evaluating the model using 6694 samples...\n",
      "Loss: 0.2317\n",
      "Accuracy: 91.50%\n"
     ]
    }
   ],
   "source": [
    "# evaluating the model using the testing set\n",
    "print(f\"Evaluating the model using {len(data['X_test'])} samples...\")\n",
    "loss, accuracy = model.evaluate(data[\"X_test\"], data[\"y_test\"], verbose=0)\n",
    "print(f\"Loss: {loss:.4f}\")\n",
    "print(f\"Accuracy: {accuracy*100:.2f}%\")"
   ]
  },
  {
   "cell_type": "code",
   "execution_count": null,
   "metadata": {},
   "outputs": [],
   "source": []
  },
  {
   "cell_type": "code",
   "execution_count": null,
   "metadata": {},
   "outputs": [],
   "source": [
    "import librosa\n",
    "import numpy as np\n",
    "\n",
    "def extract_feature(file_name, **kwargs):\n",
    "    \"\"\"\n",
    "    Extract feature from audio file `file_name`\n",
    "        Features supported:\n",
    "            - MFCC (mfcc)\n",
    "            - Chroma (chroma)\n",
    "            - MEL Spectrogram Frequency (mel)\n",
    "            - Contrast (contrast)\n",
    "            - Tonnetz (tonnetz)\n",
    "        e.g:\n",
    "        `features = extract_feature(path, mel=True, mfcc=True)`\n",
    "    \"\"\"\n",
    "    mfcc = kwargs.get(\"mfcc\")\n",
    "    chroma = kwargs.get(\"chroma\")\n",
    "    mel = kwargs.get(\"mel\")\n",
    "    contrast = kwargs.get(\"contrast\")\n",
    "    tonnetz = kwargs.get(\"tonnetz\")\n",
    "    X, sample_rate = librosa.core.load(file_name)\n",
    "    if chroma or contrast:\n",
    "        stft = np.abs(librosa.stft(X))\n",
    "    result = np.array([])\n",
    "    if mfcc:\n",
    "        mfccs = np.mean(librosa.feature.mfcc(y=X, sr=sample_rate, n_mfcc=40).T, axis=0)\n",
    "        result = np.hstack((result, mfccs))\n",
    "    if chroma:\n",
    "        chroma = np.mean(librosa.feature.chroma_stft(S=stft, sr=sample_rate).T,axis=0)\n",
    "        result = np.hstack((result, chroma))\n",
    "    if mel:\n",
    "        mel = np.mean(librosa.feature.melspectrogram(X, sr=sample_rate).T,axis=0)\n",
    "        result = np.hstack((result, mel))\n",
    "    if contrast:\n",
    "        contrast = np.mean(librosa.feature.spectral_contrast(S=stft, sr=sample_rate).T,axis=0)\n",
    "        result = np.hstack((result, contrast))\n",
    "    if tonnetz:\n",
    "        tonnetz = np.mean(librosa.feature.tonnetz(y=librosa.effects.harmonic(X), sr=sample_rate).T,axis=0)\n",
    "        result = np.hstack((result, tonnetz))\n",
    "    return result"
   ]
  },
  {
   "cell_type": "code",
   "execution_count": null,
   "metadata": {},
   "outputs": [
    {
     "name": "stdout",
     "output_type": "stream",
     "text": [
      "Requirement already satisfied: PySoundFile in c:\\users\\user\\appdata\\local\\programs\\python\\python37\\lib\\site-packages (0.9.0.post1)\n",
      "Requirement already satisfied: cffi>=0.6 in c:\\users\\user\\appdata\\local\\programs\\python\\python37\\lib\\site-packages (from PySoundFile) (1.15.1)\n",
      "Requirement already satisfied: pycparser in c:\\users\\user\\appdata\\local\\programs\\python\\python37\\lib\\site-packages (from cffi>=0.6->PySoundFile) (2.21)\n",
      "Note: you may need to restart the kernel to use updated packages.\n"
     ]
    },
    {
     "name": "stderr",
     "output_type": "stream",
     "text": [
      "WARNING: You are using pip version 20.1.1; however, version 24.0 is available.\n",
      "You should consider upgrading via the 'c:\\Users\\user\\AppData\\Local\\Programs\\Python\\Python37\\python.exe -m pip install --upgrade pip' command.\n"
     ]
    }
   ],
   "source": [
    "pip install PySoundFile"
   ]
  },
  {
   "cell_type": "code",
   "execution_count": null,
   "metadata": {},
   "outputs": [
    {
     "name": "stdout",
     "output_type": "stream",
     "text": [
      "Requirement already up-to-date: librosa in c:\\users\\user\\appdata\\local\\programs\\python\\python37\\lib\\site-packages (0.10.1)\n",
      "Requirement already up-to-date: audioread in c:\\users\\user\\appdata\\local\\programs\\python\\python37\\lib\\site-packages (3.0.1)\n",
      "Requirement already satisfied, skipping upgrade: decorator>=4.3.0 in c:\\users\\user\\appdata\\roaming\\python\\python37\\site-packages (from librosa) (5.1.1)\n",
      "Requirement already satisfied, skipping upgrade: lazy-loader>=0.1 in c:\\users\\user\\appdata\\local\\programs\\python\\python37\\lib\\site-packages (from librosa) (0.3)\n",
      "Requirement already satisfied, skipping upgrade: numba>=0.51.0 in c:\\users\\user\\appdata\\local\\programs\\python\\python37\\lib\\site-packages (from librosa) (0.56.4)\n",
      "Requirement already satisfied, skipping upgrade: numpy!=1.22.0,!=1.22.1,!=1.22.2,>=1.20.3 in c:\\users\\user\\appdata\\local\\programs\\python\\python37\\lib\\site-packages (from librosa) (1.21.6)\n",
      "Requirement already satisfied, skipping upgrade: msgpack>=1.0 in c:\\users\\user\\appdata\\local\\programs\\python\\python37\\lib\\site-packages (from librosa) (1.0.5)\n",
      "Requirement already satisfied, skipping upgrade: joblib>=0.14 in c:\\users\\user\\appdata\\local\\programs\\python\\python37\\lib\\site-packages (from librosa) (1.3.2)\n",
      "Requirement already satisfied, skipping upgrade: soundfile>=0.12.1 in c:\\users\\user\\appdata\\local\\programs\\python\\python37\\lib\\site-packages (from librosa) (0.12.1)\n",
      "Requirement already satisfied, skipping upgrade: pooch>=1.0 in c:\\users\\user\\appdata\\local\\programs\\python\\python37\\lib\\site-packages (from librosa) (1.8.1)\n",
      "Requirement already satisfied, skipping upgrade: scikit-learn>=0.20.0 in c:\\users\\user\\appdata\\local\\programs\\python\\python37\\lib\\site-packages (from librosa) (1.0.2)\n",
      "Requirement already satisfied, skipping upgrade: typing-extensions>=4.1.1 in c:\\users\\user\\appdata\\local\\programs\\python\\python37\\lib\\site-packages (from librosa) (4.7.1)\n",
      "Requirement already satisfied, skipping upgrade: scipy>=1.2.0 in c:\\users\\user\\appdata\\local\\programs\\python\\python37\\lib\\site-packages (from librosa) (1.7.3)\n",
      "Requirement already satisfied, skipping upgrade: soxr>=0.3.2 in c:\\users\\user\\appdata\\local\\programs\\python\\python37\\lib\\site-packages (from librosa) (0.3.7)\n",
      "Requirement already satisfied, skipping upgrade: llvmlite<0.40,>=0.39.0dev0 in c:\\users\\user\\appdata\\local\\programs\\python\\python37\\lib\\site-packages (from numba>=0.51.0->librosa) (0.39.1)\n",
      "Requirement already satisfied, skipping upgrade: importlib-metadata; python_version < \"3.9\" in c:\\users\\user\\appdata\\local\\programs\\python\\python37\\lib\\site-packages (from numba>=0.51.0->librosa) (6.7.0)\n",
      "Requirement already satisfied, skipping upgrade: setuptools in c:\\users\\user\\appdata\\local\\programs\\python\\python37\\lib\\site-packages (from numba>=0.51.0->librosa) (47.1.0)\n",
      "Requirement already satisfied, skipping upgrade: cffi>=1.0 in c:\\users\\user\\appdata\\local\\programs\\python\\python37\\lib\\site-packages (from soundfile>=0.12.1->librosa) (1.15.1)\n",
      "Requirement already satisfied, skipping upgrade: packaging>=20.0 in c:\\users\\user\\appdata\\roaming\\python\\python37\\site-packages (from pooch>=1.0->librosa) (23.2)\n",
      "Requirement already satisfied, skipping upgrade: platformdirs>=2.5.0 in c:\\users\\user\\appdata\\local\\programs\\python\\python37\\lib\\site-packages (from pooch>=1.0->librosa) (4.0.0)\n",
      "Requirement already satisfied, skipping upgrade: requests>=2.19.0 in c:\\users\\user\\appdata\\local\\programs\\python\\python37\\lib\\site-packages (from pooch>=1.0->librosa) (2.31.0)\n",
      "Requirement already satisfied, skipping upgrade: threadpoolctl>=2.0.0 in c:\\users\\user\\appdata\\local\\programs\\python\\python37\\lib\\site-packages (from scikit-learn>=0.20.0->librosa) (3.1.0)\n",
      "Requirement already satisfied, skipping upgrade: zipp>=0.5 in c:\\users\\user\\appdata\\local\\programs\\python\\python37\\lib\\site-packages (from importlib-metadata; python_version < \"3.9\"->numba>=0.51.0->librosa) (3.15.0)\n",
      "Requirement already satisfied, skipping upgrade: pycparser in c:\\users\\user\\appdata\\local\\programs\\python\\python37\\lib\\site-packages (from cffi>=1.0->soundfile>=0.12.1->librosa) (2.21)\n",
      "Requirement already satisfied, skipping upgrade: certifi>=2017.4.17 in c:\\users\\user\\appdata\\local\\programs\\python\\python37\\lib\\site-packages (from requests>=2.19.0->pooch>=1.0->librosa) (2023.11.17)\n",
      "Requirement already satisfied, skipping upgrade: charset-normalizer<4,>=2 in c:\\users\\user\\appdata\\local\\programs\\python\\python37\\lib\\site-packages (from requests>=2.19.0->pooch>=1.0->librosa) (3.3.2)\n",
      "Requirement already satisfied, skipping upgrade: urllib3<3,>=1.21.1 in c:\\users\\user\\appdata\\local\\programs\\python\\python37\\lib\\site-packages (from requests>=2.19.0->pooch>=1.0->librosa) (2.0.7)\n",
      "Requirement already satisfied, skipping upgrade: idna<4,>=2.5 in c:\\users\\user\\appdata\\local\\programs\\python\\python37\\lib\\site-packages (from requests>=2.19.0->pooch>=1.0->librosa) (3.6)\n",
      "Note: you may need to restart the kernel to use updated packages.\n"
     ]
    },
    {
     "name": "stderr",
     "output_type": "stream",
     "text": [
      "WARNING: You are using pip version 20.1.1; however, version 24.0 is available.\n",
      "You should consider upgrading via the 'c:\\Users\\user\\AppData\\Local\\Programs\\Python\\Python37\\python.exe -m pip install --upgrade pip' command.\n"
     ]
    }
   ],
   "source": [
    "pip install --upgrade librosa audioread"
   ]
  },
  {
   "cell_type": "code",
   "execution_count": null,
   "metadata": {},
   "outputs": [
    {
     "name": "stdout",
     "output_type": "stream",
     "text": [
      "Requirement already up-to-date: librosa in c:\\users\\user\\appdata\\local\\programs\\python\\python37\\lib\\site-packages (0.10.1)\n",
      "Requirement already up-to-date: PySoundFile in c:\\users\\user\\appdata\\local\\programs\\python\\python37\\lib\\site-packages (0.9.0.post1)\n",
      "Requirement already up-to-date: audioread in c:\\users\\user\\appdata\\local\\programs\\python\\python37\\lib\\site-packages (3.0.1)\n",
      "Requirement already satisfied, skipping upgrade: pooch>=1.0 in c:\\users\\user\\appdata\\local\\programs\\python\\python37\\lib\\site-packages (from librosa) (1.8.1)\n",
      "Requirement already satisfied, skipping upgrade: joblib>=0.14 in c:\\users\\user\\appdata\\local\\programs\\python\\python37\\lib\\site-packages (from librosa) (1.3.2)\n",
      "Requirement already satisfied, skipping upgrade: soundfile>=0.12.1 in c:\\users\\user\\appdata\\local\\programs\\python\\python37\\lib\\site-packages (from librosa) (0.12.1)\n",
      "Requirement already satisfied, skipping upgrade: decorator>=4.3.0 in c:\\users\\user\\appdata\\roaming\\python\\python37\\site-packages (from librosa) (5.1.1)\n",
      "Requirement already satisfied, skipping upgrade: soxr>=0.3.2 in c:\\users\\user\\appdata\\local\\programs\\python\\python37\\lib\\site-packages (from librosa) (0.3.7)\n",
      "Requirement already satisfied, skipping upgrade: numpy!=1.22.0,!=1.22.1,!=1.22.2,>=1.20.3 in c:\\users\\user\\appdata\\local\\programs\\python\\python37\\lib\\site-packages (from librosa) (1.21.6)\n",
      "Requirement already satisfied, skipping upgrade: msgpack>=1.0 in c:\\users\\user\\appdata\\local\\programs\\python\\python37\\lib\\site-packages (from librosa) (1.0.5)\n",
      "Requirement already satisfied, skipping upgrade: lazy-loader>=0.1 in c:\\users\\user\\appdata\\local\\programs\\python\\python37\\lib\\site-packages (from librosa) (0.3)\n",
      "Requirement already satisfied, skipping upgrade: scikit-learn>=0.20.0 in c:\\users\\user\\appdata\\local\\programs\\python\\python37\\lib\\site-packages (from librosa) (1.0.2)\n",
      "Requirement already satisfied, skipping upgrade: numba>=0.51.0 in c:\\users\\user\\appdata\\local\\programs\\python\\python37\\lib\\site-packages (from librosa) (0.56.4)\n",
      "Requirement already satisfied, skipping upgrade: scipy>=1.2.0 in c:\\users\\user\\appdata\\local\\programs\\python\\python37\\lib\\site-packages (from librosa) (1.7.3)\n",
      "Requirement already satisfied, skipping upgrade: typing-extensions>=4.1.1 in c:\\users\\user\\appdata\\local\\programs\\python\\python37\\lib\\site-packages (from librosa) (4.7.1)\n",
      "Requirement already satisfied, skipping upgrade: cffi>=0.6 in c:\\users\\user\\appdata\\local\\programs\\python\\python37\\lib\\site-packages (from PySoundFile) (1.15.1)\n",
      "Requirement already satisfied, skipping upgrade: platformdirs>=2.5.0 in c:\\users\\user\\appdata\\local\\programs\\python\\python37\\lib\\site-packages (from pooch>=1.0->librosa) (4.0.0)\n",
      "Requirement already satisfied, skipping upgrade: requests>=2.19.0 in c:\\users\\user\\appdata\\local\\programs\\python\\python37\\lib\\site-packages (from pooch>=1.0->librosa) (2.31.0)\n",
      "Requirement already satisfied, skipping upgrade: packaging>=20.0 in c:\\users\\user\\appdata\\roaming\\python\\python37\\site-packages (from pooch>=1.0->librosa) (23.2)\n",
      "Requirement already satisfied, skipping upgrade: threadpoolctl>=2.0.0 in c:\\users\\user\\appdata\\local\\programs\\python\\python37\\lib\\site-packages (from scikit-learn>=0.20.0->librosa) (3.1.0)\n",
      "Requirement already satisfied, skipping upgrade: setuptools in c:\\users\\user\\appdata\\local\\programs\\python\\python37\\lib\\site-packages (from numba>=0.51.0->librosa) (47.1.0)\n",
      "Requirement already satisfied, skipping upgrade: llvmlite<0.40,>=0.39.0dev0 in c:\\users\\user\\appdata\\local\\programs\\python\\python37\\lib\\site-packages (from numba>=0.51.0->librosa) (0.39.1)\n",
      "Requirement already satisfied, skipping upgrade: importlib-metadata; python_version < \"3.9\" in c:\\users\\user\\appdata\\local\\programs\\python\\python37\\lib\\site-packages (from numba>=0.51.0->librosa) (6.7.0)\n",
      "Requirement already satisfied, skipping upgrade: pycparser in c:\\users\\user\\appdata\\local\\programs\\python\\python37\\lib\\site-packages (from cffi>=0.6->PySoundFile) (2.21)\n",
      "Requirement already satisfied, skipping upgrade: charset-normalizer<4,>=2 in c:\\users\\user\\appdata\\local\\programs\\python\\python37\\lib\\site-packages (from requests>=2.19.0->pooch>=1.0->librosa) (3.3.2)\n",
      "Requirement already satisfied, skipping upgrade: certifi>=2017.4.17 in c:\\users\\user\\appdata\\local\\programs\\python\\python37\\lib\\site-packages (from requests>=2.19.0->pooch>=1.0->librosa) (2023.11.17)\n",
      "Requirement already satisfied, skipping upgrade: idna<4,>=2.5 in c:\\users\\user\\appdata\\local\\programs\\python\\python37\\lib\\site-packages (from requests>=2.19.0->pooch>=1.0->librosa) (3.6)\n",
      "Requirement already satisfied, skipping upgrade: urllib3<3,>=1.21.1 in c:\\users\\user\\appdata\\local\\programs\\python\\python37\\lib\\site-packages (from requests>=2.19.0->pooch>=1.0->librosa) (2.0.7)\n",
      "Requirement already satisfied, skipping upgrade: zipp>=0.5 in c:\\users\\user\\appdata\\local\\programs\\python\\python37\\lib\\site-packages (from importlib-metadata; python_version < \"3.9\"->numba>=0.51.0->librosa) (3.15.0)\n",
      "Note: you may need to restart the kernel to use updated packages.\n"
     ]
    },
    {
     "name": "stderr",
     "output_type": "stream",
     "text": [
      "WARNING: You are using pip version 20.1.1; however, version 24.0 is available.\n",
      "You should consider upgrading via the 'c:\\Users\\user\\AppData\\Local\\Programs\\Python\\Python37\\python.exe -m pip install --upgrade pip' command.\n"
     ]
    }
   ],
   "source": [
    "pip install --upgrade librosa PySoundFile audioread\n"
   ]
  },
  {
   "cell_type": "code",
   "execution_count": null,
   "metadata": {},
   "outputs": [],
   "source": []
  },
  {
   "cell_type": "code",
   "execution_count": null,
   "metadata": {},
   "outputs": [],
   "source": []
  },
  {
   "cell_type": "code",
   "execution_count": null,
   "metadata": {},
   "outputs": [],
   "source": []
  },
  {
   "cell_type": "code",
   "execution_count": null,
   "metadata": {},
   "outputs": [
    {
     "name": "stdout",
     "output_type": "stream",
     "text": [
      "1/1 [==============================] - 0s 126ms/step\n",
      "Result: male\n",
      "Probability: 100.00%\n"
     ]
    }
   ],
   "source": [
    "import os\n",
    "import numpy as np\n",
    "from tensorflow.keras.models import load_model\n",
    "import librosa\n",
    "\n",
    "# Load the saved/trained model\n",
    "model_path = \"C:/Age Gender Detection/Voice Recognition/voice_recognition_model.h5\"\n",
    "model = load_model(model_path)\n",
    "\n",
    "if model is None:\n",
    "    print(\"Error: Failed to load the model\")\n",
    "    exit(1)\n",
    "\n",
    "def extract_feature(file, mel=True, n_mfcc=20):\n",
    "    try:\n",
    "        # Load audio file\n",
    "        y, sr = librosa.load(file, sr=None)\n",
    "\n",
    "        # Extract features\n",
    "        if mel:\n",
    "            feature = librosa.feature.mfcc(y=y, sr=sr, n_mfcc=n_mfcc)\n",
    "        else:\n",
    "            feature = librosa.feature.melspectrogram(y=y, sr=sr)\n",
    "\n",
    "        # Pad or truncate the features to ensure consistent length along the time axis\n",
    "        target_length = 128\n",
    "        if feature.shape[1] < target_length:\n",
    "            feature = np.pad(feature, ((0, 0), (0, target_length - feature.shape[1])), mode='constant')\n",
    "        elif feature.shape[1] > target_length:\n",
    "            feature = feature[:, :target_length]\n",
    "\n",
    "        # Add channel dimension\n",
    "        feature = np.expand_dims(feature, axis=-1)\n",
    "\n",
    "        return feature\n",
    "    except Exception as e:\n",
    "        print(f\"Error extracting features from the file: {e}\")\n",
    "        return None\n",
    "\n",
    "# Path to the WAV file\n",
    "file = input(\"Enter the path to the WAV file: \")\n",
    "\n",
    "if not os.path.isfile(file):\n",
    "    print(f\"Error: File '{file}' does not exist\")\n",
    "    exit(1)\n",
    "\n",
    "# Extract features from the WAV file\n",
    "features = extract_feature(file)\n",
    "\n",
    "if features is None:\n",
    "    print(\"Feature extraction failed. Please check the WAV file.\")\n",
    "    exit(1)\n",
    "\n",
    "# Perform inference (prediction)\n",
    "predictions = model.predict(features)\n",
    "\n",
    "# Interpret prediction\n",
    "prediction = predictions[0][0]  # Assuming it's a single value representing probability for one class\n",
    "\n",
    "# Determine gender based on prediction probability\n",
    "gender = \"male\" if prediction >= 0.5 else \"female\"\n",
    "\n",
    "# Display the result\n",
    "print(\"Result:\", gender)\n",
    "print(f\"Probability: {prediction*100:.2f}%\")\n"
   ]
  },
  {
   "cell_type": "code",
   "execution_count": 60,
   "metadata": {},
   "outputs": [
    {
     "name": "stdout",
     "output_type": "stream",
     "text": [
      "1/1 [==============================] - 0s 107ms/step\n",
      "Result: male\n"
     ]
    }
   ],
   "source": [
    "import os\n",
    "import numpy as np\n",
    "from tensorflow.keras.models import load_model\n",
    "import librosa\n",
    "\n",
    "# Load the saved/trained model\n",
    "model_path = \"C:/Age Gender Detection/Voice Recognition/voice_recognition_model.h5\"\n",
    "model = load_model(model_path)\n",
    "\n",
    "if model is None:\n",
    "    print(\"Error: Failed to load the model\")\n",
    "    exit(1)\n",
    "\n",
    "def extract_feature(file, mel=True, n_mfcc=20):\n",
    "    try:\n",
    "        # Load audio file\n",
    "        y, sr = librosa.load(file, sr=None)\n",
    "\n",
    "        # Extract features\n",
    "        if mel:\n",
    "            feature = librosa.feature.mfcc(y=y, sr=sr, n_mfcc=n_mfcc)\n",
    "        else:\n",
    "            feature = librosa.feature.melspectrogram(y=y, sr=sr)\n",
    "\n",
    "        # Pad or truncate the features to ensure consistent length along the time axis\n",
    "        target_length = 128\n",
    "        if feature.shape[1] < target_length:\n",
    "            feature = np.pad(feature, ((0, 0), (0, target_length - feature.shape[1])), mode='constant')\n",
    "        elif feature.shape[1] > target_length:\n",
    "            feature = feature[:, :target_length]\n",
    "\n",
    "        # Add channel dimension\n",
    "        feature = np.expand_dims(feature, axis=-1)\n",
    "\n",
    "        return feature\n",
    "    except Exception as e:\n",
    "        print(f\"Error extracting features from the file: {e}\")\n",
    "        return None\n",
    "\n",
    "# Path to the WAV file\n",
    "file = input(\"Enter the path to the WAV file: \")\n",
    "\n",
    "if not os.path.isfile(file):\n",
    "    print(f\"Error: File '{file}' does not exist\")\n",
    "    exit(1)\n",
    "\n",
    "# Extract features from the WAV file\n",
    "features = extract_feature(file)\n",
    "\n",
    "if features is None:\n",
    "    print(\"Feature extraction failed. Please check the WAV file.\")\n",
    "    exit(1)\n",
    "\n",
    "# Perform inference (prediction)\n",
    "predictions = model.predict(features)\n",
    "\n",
    "# Interpret prediction\n",
    "prediction = predictions[0][0]  # Assuming it's a single value representing probability for one class\n",
    "\n",
    "# Determine gender based on prediction probability\n",
    "gender = \"male\" if prediction >= 0.5 else \"female\"\n",
    "\n",
    "# Display the result without printing probability\n",
    "print(\"Result:\", gender)\n"
   ]
  },
  {
   "cell_type": "code",
   "execution_count": null,
   "metadata": {},
   "outputs": [],
   "source": []
  },
  {
   "cell_type": "code",
   "execution_count": 11,
   "metadata": {},
   "outputs": [
    {
     "name": "stdout",
     "output_type": "stream",
     "text": [
      "1/1 [==============================] - 0s 142ms/step\n",
      "Result: female\n"
     ]
    }
   ],
   "source": [
    "import os\n",
    "import numpy as np\n",
    "from tensorflow.keras.models import load_model\n",
    "import librosa\n",
    "\n",
    "# Load the saved/trained model\n",
    "model_path = \"C:/Age Gender Detection/Voice Recognition/voice_recognition_model.h5\"\n",
    "model = load_model(model_path)\n",
    "\n",
    "if model is None:\n",
    "    print(\"Error: Failed to load the model\")\n",
    "    exit(1)\n",
    "\n",
    "def extract_feature(file, mel=True, n_mfcc=20):\n",
    "    try:\n",
    "        # Load audio file\n",
    "        y, sr = librosa.load(file, sr=None)\n",
    "\n",
    "        # Extract features\n",
    "        if mel:\n",
    "            feature = librosa.feature.mfcc(y=y, sr=sr, n_mfcc=n_mfcc)\n",
    "        else:\n",
    "            feature = librosa.feature.melspectrogram(y=y, sr=sr)\n",
    "\n",
    "        # Pad or truncate the features to ensure consistent length along the time axis\n",
    "        target_length = 128\n",
    "        if feature.shape[1] < target_length:\n",
    "            feature = np.pad(feature, ((0, 0), (0, target_length - feature.shape[1])), mode='constant')\n",
    "        elif feature.shape[1] > target_length:\n",
    "            feature = feature[:, :target_length]\n",
    "\n",
    "        # Add channel dimension\n",
    "        feature = np.expand_dims(feature, axis=-1)\n",
    "\n",
    "        return feature\n",
    "    except Exception as e:\n",
    "        print(f\"Error extracting features from the file: {e}\")\n",
    "        return None\n",
    "\n",
    "# Path to the WAV file\n",
    "file = input(\"Enter the path to the WAV file: \")\n",
    "\n",
    "if not os.path.isfile(file):\n",
    "    print(f\"Error: File '{file}' does not exist\")\n",
    "    exit(1)\n",
    "\n",
    "# Extract features from the WAV file\n",
    "features = extract_feature(file)\n",
    "\n",
    "if features is None:\n",
    "    print(\"Feature extraction failed. Please check the WAV file.\")\n",
    "    exit(1)\n",
    "\n",
    "# Perform inference (prediction)\n",
    "predictions = model.predict(features)\n",
    "\n",
    "# Interpret prediction\n",
    "prediction = predictions[0][0]  # Assuming it's a single value representing probability for one class\n",
    "\n",
    "# Determine gender based on prediction probability\n",
    "gender = \"male\" if prediction >= 0.5 else \"female\"\n",
    "\n",
    "# Display the result without printing probability\n",
    "print(\"Result:\", gender)\n"
   ]
  },
  {
   "cell_type": "code",
   "execution_count": null,
   "metadata": {},
   "outputs": [],
   "source": []
  }
 ],
 "metadata": {
  "kernelspec": {
   "display_name": "Python 3",
   "language": "python",
   "name": "python3"
  },
  "language_info": {
   "codemirror_mode": {
    "name": "ipython",
    "version": 3
   },
   "file_extension": ".py",
   "mimetype": "text/x-python",
   "name": "python",
   "nbconvert_exporter": "python",
   "pygments_lexer": "ipython3",
   "version": "3.7.9"
  }
 },
 "nbformat": 4,
 "nbformat_minor": 2
}
